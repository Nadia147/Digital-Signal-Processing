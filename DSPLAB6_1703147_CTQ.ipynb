{
  "nbformat": 4,
  "nbformat_minor": 0,
  "metadata": {
    "colab": {
      "provenance": [],
      "authorship_tag": "ABX9TyMCTqO+TnxPwQ9RSQFXrEuu",
      "include_colab_link": true
    },
    "kernelspec": {
      "name": "python3",
      "display_name": "Python 3"
    },
    "language_info": {
      "name": "python"
    }
  },
  "cells": [
    {
      "cell_type": "markdown",
      "metadata": {
        "id": "view-in-github",
        "colab_type": "text"
      },
      "source": [
        "<a href=\"https://colab.research.google.com/github/Nadia147/Digital-Signal-Processing/blob/main/DSPLAB6_1703147_CTQ.ipynb\" target=\"_parent\"><img src=\"https://colab.research.google.com/assets/colab-badge.svg\" alt=\"Open In Colab\"/></a>"
      ]
    },
    {
      "cell_type": "code",
      "execution_count": null,
      "metadata": {
        "id": "tzl7HruMsPn1"
      },
      "outputs": [],
      "source": [
        "import numpy as np \n",
        "import matplotlib.pyplot as plt\n",
        "from matplotlib import style\n",
        "import math"
      ]
    },
    {
      "cell_type": "code",
      "source": [],
      "metadata": {
        "id": "ZbXoEN1y3-0f"
      },
      "execution_count": null,
      "outputs": []
    },
    {
      "cell_type": "code",
      "source": [
        "xn=[2,-2,1] # N=3\n",
        "c=[0,0,0]\n",
        "\n",
        "for k in range (0,3,1):\n",
        "  for n in range (0,3,1):\n",
        "    c[k]+=(1/3)*(xn[n]*np.exp(-1j*2*np.pi*k*(n/3)))\n",
        "  "
      ],
      "metadata": {
        "id": "EmlKRR_ptwpE"
      },
      "execution_count": null,
      "outputs": []
    },
    {
      "cell_type": "code",
      "source": [
        "mag=[0,0,0]\n",
        "\n",
        "temp=0\n",
        "for i in range (0,3,1):\n",
        "  temp=np.imag(c[i])**2\n",
        "  temp+=np.real(c[i])**2\n",
        "  mag[i]=math.sqrt(temp)\n",
        "  print(\"Magnitude = C\",i,\" : \",mag[i],sep='')"
      ],
      "metadata": {
        "colab": {
          "base_uri": "https://localhost:8080/"
        },
        "id": "Cf5jaE55t04p",
        "outputId": "9639ed7e-b324-4114-f1d6-4d6c1c68d863"
      },
      "execution_count": null,
      "outputs": [
        {
          "output_type": "stream",
          "name": "stdout",
          "text": [
            "Magnitude = C0 : 0.3333333333333333\n",
            "Magnitude = C1 : 1.201850425154663\n",
            "Magnitude = C2 : 1.2018504251546633\n"
          ]
        }
      ]
    },
    {
      "cell_type": "code",
      "source": [
        "phase=[0,0,0]\n",
        "\n",
        "temp=0\n",
        "for i in range (0,3,1):\n",
        "  y=np.imag(c[i])\n",
        "  x=np.real(c[i])\n",
        "  temp=np.arctan(y/x)\n",
        "  phase[i]=temp\n",
        "  print(\"Phase = C\",i,\" : \",phase[i],sep='',end=' ')\n",
        "  print('\\n')\n"
      ],
      "metadata": {
        "colab": {
          "base_uri": "https://localhost:8080/"
        },
        "id": "M76U-h6it_20",
        "outputId": "7951a79c-17b3-434f-dde7-0fc92b59e4f7"
      },
      "execution_count": null,
      "outputs": [
        {
          "output_type": "stream",
          "name": "stdout",
          "text": [
            "Phase = C0 : 0.0 \n",
            "\n",
            "Phase = C1 : 0.8046336771011126 \n",
            "\n",
            "Phase = C2 : -0.8046336771011121 \n",
            "\n"
          ]
        }
      ]
    },
    {
      "cell_type": "code",
      "source": [
        "Sxx=[0,0,0]\n",
        "for i in range (0,3,1):\n",
        "  Sxx[i]=c[i]**2\n",
        "  print(\"Energy density spectra = C\",i,\" : \",sep='',end='')\n",
        "  print(Sxx[i])"
      ],
      "metadata": {
        "colab": {
          "base_uri": "https://localhost:8080/"
        },
        "id": "jmr9L96YuFrG",
        "outputId": "554b3330-a059-45fe-826d-b1522f3bb276"
      },
      "execution_count": null,
      "outputs": [
        {
          "output_type": "stream",
          "name": "stdout",
          "text": [
            "Energy density spectra = C0 : (0.1111111111111111+0j)\n",
            "Energy density spectra = C1 : (-0.05555555555555569+1.4433756729740637j)\n",
            "Energy density spectra = C2 : (-0.05555555555555469-1.4433756729740652j)\n"
          ]
        }
      ]
    },
    {
      "cell_type": "code",
      "source": [
        " \n",
        "plt.plot(np.real(Sxx),np.imag(Sxx))\n"
      ],
      "metadata": {
        "colab": {
          "base_uri": "https://localhost:8080/",
          "height": 283
        },
        "id": "8sObUqc04BWN",
        "outputId": "97e11b1c-5450-4ccd-d053-dcd3c2620f8e"
      },
      "execution_count": null,
      "outputs": [
        {
          "output_type": "execute_result",
          "data": {
            "text/plain": [
              "[<matplotlib.lines.Line2D at 0x7fc9bb451130>]"
            ]
          },
          "metadata": {},
          "execution_count": 6
        },
        {
          "output_type": "display_data",
          "data": {
            "text/plain": [
              "<Figure size 432x288 with 1 Axes>"
            ],
            "image/png": "[encoded data removed]"
          },
          "metadata": {
            "needs_background": "light"
          }
        }
      ]
    }
  ]
}